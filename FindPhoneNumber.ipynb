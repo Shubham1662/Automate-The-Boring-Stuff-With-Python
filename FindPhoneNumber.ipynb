{
 "cells": [
  {
   "cell_type": "markdown",
   "metadata": {},
   "source": [
    "# Check whether phone no. exist in the given text or not"
   ]
  },
  {
   "cell_type": "code",
   "execution_count": null,
   "metadata": {},
   "outputs": [],
   "source": [
    "def isPhoneNumber(text):#415-555-1234\n",
    "    if len(text)!=12:\n",
    "        return False\n",
    "    for i in range(0,3):\n",
    "        if not text[i].isdecimal():\n",
    "            return False\n",
    "    if text[3]!='-':\n",
    "        return False\n",
    "    for i in range(4,7):\n",
    "        if not text[i].isdecimal():\n",
    "            return False\n",
    "    if text[7]!='-':\n",
    "        return False\n",
    "    for i in range(8,12):\n",
    "        if not text[i].isdecimal():\n",
    "            return Flase\n",
    "    return True\n",
    "print(isPhoneNumber('423-232-1234'))\n",
    "message='Hello Justin, You may call me at 412-3422-9833 or you may call my assistant Julie at 489-123-6721 in case of more information'\n",
    "FoundNumber=False\n",
    "for i in range(len(message)):\n",
    "    chunk=message[i:i+12]\n",
    "    if isPhoneNumber(chunk):\n",
    "        print('Number Found')\n",
    "        FoundNumber=True\n",
    "if not FoundNumber:\n",
    "    print('Cound not find no.')\n",
    "        \n",
    "    \n",
    "  "
   ]
  }
 ],
 "metadata": {
  "kernelspec": {
   "display_name": "Python 3",
   "language": "python",
   "name": "python3"
  },
  "language_info": {
   "codemirror_mode": {
    "name": "ipython",
    "version": 3
   },
   "file_extension": ".py",
   "mimetype": "text/x-python",
   "name": "python",
   "nbconvert_exporter": "python",
   "pygments_lexer": "ipython3",
   "version": "3.7.3"
  }
 },
 "nbformat": 4,
 "nbformat_minor": 2
}
