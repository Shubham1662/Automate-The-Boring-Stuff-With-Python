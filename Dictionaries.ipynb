{
 "cells": [
  {
   "cell_type": "markdown",
   "metadata": {},
   "source": [
    "# Dictionaries"
   ]
  },
  {
   "cell_type": "code",
   "execution_count": 2,
   "metadata": {},
   "outputs": [],
   "source": [
    "mycat={'size':'tall','name':'Lucy','color':'brown' }"
   ]
  },
  {
   "cell_type": "code",
   "execution_count": 3,
   "metadata": {},
   "outputs": [
    {
     "data": {
      "text/plain": [
       "{'size': 'tall', 'name': 'Lucy', 'color': 'brown'}"
      ]
     },
     "execution_count": 3,
     "metadata": {},
     "output_type": "execute_result"
    }
   ],
   "source": [
    "mycat"
   ]
  },
  {
   "cell_type": "code",
   "execution_count": 6,
   "metadata": {},
   "outputs": [
    {
     "data": {
      "text/plain": [
       "'tall'"
      ]
     },
     "execution_count": 6,
     "metadata": {},
     "output_type": "execute_result"
    }
   ],
   "source": [
    "mycat['size']"
   ]
  },
  {
   "cell_type": "code",
   "execution_count": 7,
   "metadata": {},
   "outputs": [
    {
     "data": {
      "text/plain": [
       "False"
      ]
     },
     "execution_count": 7,
     "metadata": {},
     "output_type": "execute_result"
    }
   ],
   "source": [
    "#Item in a dictionary are unordered\n",
    "[1,2,3]==[3,2,1] #list"
   ]
  },
  {
   "cell_type": "code",
   "execution_count": 8,
   "metadata": {},
   "outputs": [
    {
     "data": {
      "text/plain": [
       "True"
      ]
     },
     "execution_count": 8,
     "metadata": {},
     "output_type": "execute_result"
    }
   ],
   "source": [
    "{1,2,3}=={3,2,1} # dictionary"
   ]
  },
  {
   "cell_type": "code",
   "execution_count": 10,
   "metadata": {},
   "outputs": [
    {
     "data": {
      "text/plain": [
       "True"
      ]
     },
     "execution_count": 10,
     "metadata": {},
     "output_type": "execute_result"
    }
   ],
   "source": [
    "mycat={'size':'tall','name':'Lucy','color':'brown' }\n",
    "yourcat={'name':'Lucy','size':'tall','color':'brown' }\n",
    "mycat==yourcat"
   ]
  },
  {
   "cell_type": "code",
   "execution_count": 13,
   "metadata": {},
   "outputs": [
    {
     "data": {
      "text/plain": [
       "['size', 'name', 'color']"
      ]
     },
     "execution_count": 13,
     "metadata": {},
     "output_type": "execute_result"
    }
   ],
   "source": [
    "list(mycat.keys())"
   ]
  },
  {
   "cell_type": "code",
   "execution_count": 14,
   "metadata": {},
   "outputs": [
    {
     "data": {
      "text/plain": [
       "['tall', 'Lucy', 'brown']"
      ]
     },
     "execution_count": 14,
     "metadata": {},
     "output_type": "execute_result"
    }
   ],
   "source": [
    "list(mycat.values())"
   ]
  },
  {
   "cell_type": "code",
   "execution_count": 15,
   "metadata": {},
   "outputs": [
    {
     "data": {
      "text/plain": [
       "[('size', 'tall'), ('name', 'Lucy'), ('color', 'brown')]"
      ]
     },
     "execution_count": 15,
     "metadata": {},
     "output_type": "execute_result"
    }
   ],
   "source": [
    "list(mycat.items())"
   ]
  },
  {
   "cell_type": "code",
   "execution_count": 16,
   "metadata": {},
   "outputs": [
    {
     "name": "stdout",
     "output_type": "stream",
     "text": [
      "size\n",
      "name\n",
      "color\n"
     ]
    }
   ],
   "source": [
    "for k in mycat.keys():\n",
    "    print(k)"
   ]
  },
  {
   "cell_type": "code",
   "execution_count": 17,
   "metadata": {},
   "outputs": [
    {
     "name": "stdout",
     "output_type": "stream",
     "text": [
      "size tall\n",
      "name Lucy\n",
      "color brown\n"
     ]
    }
   ],
   "source": [
    "for k,v in mycat.items():\n",
    "    print(k,v)"
   ]
  },
  {
   "cell_type": "code",
   "execution_count": 19,
   "metadata": {},
   "outputs": [
    {
     "name": "stdout",
     "output_type": "stream",
     "text": [
      "{'M': 1, 'y': 3, ' ': 21, 'n': 6, 'a': 8, 'm': 4, 'e': 7, 'i': 8, 's': 3, 'S': 2, 'h': 8, 'u': 5, 'b': 4, 'd': 3, 'g': 2, 't': 5, '1': 1, '6': 2, '2': 1, ',': 1, 'r': 3, 'l': 6, 'k': 1, 'o': 3, 'p': 1, 'G': 1, 'w': 2, 'v': 1}\n"
     ]
    }
   ],
   "source": [
    "message='My name is Shubham and my github id is Shubham1662, i really like to upload things on Github whatever l learn new'\n",
    "count={}\n",
    "for character in message:\n",
    "    count.setdefault(character,0)\n",
    "    count[character]=count[character]+1\n",
    "print(count)"
   ]
  },
  {
   "cell_type": "code",
   "execution_count": 20,
   "metadata": {},
   "outputs": [
    {
     "name": "stdout",
     "output_type": "stream",
     "text": [
      "{'M': 5, 'Y': 3, ' ': 21, 'N': 6, 'A': 8, 'E': 7, 'I': 8, 'S': 5, 'H': 8, 'U': 5, 'B': 4, 'D': 3, 'G': 3, 'T': 5, '1': 1, '6': 2, '2': 1, ',': 1, 'R': 3, 'L': 6, 'K': 1, 'O': 3, 'P': 1, 'W': 2, 'V': 1}\n"
     ]
    }
   ],
   "source": [
    "message='My name is Shubham and my github id is Shubham1662, i really like to upload things on Github whatever l learn new'\n",
    "count={}\n",
    "for character in message.upper():\n",
    "    count.setdefault(character,0)\n",
    "    count[character]=count[character]+1\n",
    "print(count)"
   ]
  },
  {
   "cell_type": "code",
   "execution_count": 21,
   "metadata": {},
   "outputs": [
    {
     "name": "stdout",
     "output_type": "stream",
     "text": [
      "{' ': 21,\n",
      " ',': 1,\n",
      " '1': 1,\n",
      " '2': 1,\n",
      " '6': 2,\n",
      " 'A': 8,\n",
      " 'B': 4,\n",
      " 'D': 3,\n",
      " 'E': 7,\n",
      " 'G': 3,\n",
      " 'H': 8,\n",
      " 'I': 8,\n",
      " 'K': 1,\n",
      " 'L': 6,\n",
      " 'M': 5,\n",
      " 'N': 6,\n",
      " 'O': 3,\n",
      " 'P': 1,\n",
      " 'R': 3,\n",
      " 'S': 5,\n",
      " 'T': 5,\n",
      " 'U': 5,\n",
      " 'V': 1,\n",
      " 'W': 2,\n",
      " 'Y': 3}\n"
     ]
    }
   ],
   "source": [
    "import pprint\n",
    "count={}\n",
    "for character in message.upper():\n",
    "    count.setdefault(character,0)\n",
    "    count[character]=count[character]+1\n",
    "pprint.pprint(count)\n"
   ]
  },
  {
   "cell_type": "code",
   "execution_count": null,
   "metadata": {},
   "outputs": [],
   "source": []
  }
 ],
 "metadata": {
  "kernelspec": {
   "display_name": "Python 3",
   "language": "python",
   "name": "python3"
  },
  "language_info": {
   "codemirror_mode": {
    "name": "ipython",
    "version": 3
   },
   "file_extension": ".py",
   "mimetype": "text/x-python",
   "name": "python",
   "nbconvert_exporter": "python",
   "pygments_lexer": "ipython3",
   "version": "3.7.3"
  }
 },
 "nbformat": 4,
 "nbformat_minor": 2
}
